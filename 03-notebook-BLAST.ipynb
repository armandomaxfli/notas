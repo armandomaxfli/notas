{
 "cells": [
  {
   "cell_type": "markdown",
   "metadata": {},
   "source": [
    "# Easier way for download files"
   ]
  },
  {
   "cell_type": "code",
   "execution_count": 1,
   "metadata": {
    "collapsed": false
   },
   "outputs": [
    {
     "ename": "SyntaxError",
     "evalue": "invalid syntax (<ipython-input-1-0cc83855671f>, line 1)",
     "output_type": "error",
     "traceback": [
      "\u001b[1;36m  File \u001b[1;32m\"<ipython-input-1-0cc83855671f>\"\u001b[1;36m, line \u001b[1;32m1\u001b[0m\n\u001b[1;33m    location of file on web:\u001b[0m\n\u001b[1;37m              ^\u001b[0m\n\u001b[1;31mSyntaxError\u001b[0m\u001b[1;31m:\u001b[0m invalid syntax\n"
     ]
    }
   ],
   "source": [
    "location of file on web:\n",
    "    \n",
    "http://owl.fish.washington.edu/btea/data/Geoduck-transcriptome-v2.fasta"
   ]
  },
  {
   "cell_type": "code",
   "execution_count": 2,
   "metadata": {
    "collapsed": false
   },
   "outputs": [
    {
     "ename": "SyntaxError",
     "evalue": "invalid syntax (<ipython-input-2-acf73d37b437>, line 2)",
     "output_type": "error",
     "traceback": [
      "\u001b[1;36m  File \u001b[1;32m\"<ipython-input-2-acf73d37b437>\"\u001b[1;36m, line \u001b[1;32m2\u001b[0m\n\u001b[1;33m    ../data/Geoduck-proteome-v2.fasta\u001b[0m\n\u001b[1;37m    ^\u001b[0m\n\u001b[1;31mSyntaxError\u001b[0m\u001b[1;31m:\u001b[0m invalid syntax\n"
     ]
    }
   ],
   "source": [
    "!curl http://owl.fish.washington.edu/btea/data/Geoduck-proteome-v2.fasta -o \\ \n",
    "../data/Geoduck-proteome-v2.fasta"
   ]
  },
  {
   "cell_type": "code",
   "execution_count": 8,
   "metadata": {
    "collapsed": false
   },
   "outputs": [
    {
     "name": "stderr",
     "output_type": "stream",
     "text": [
      "  % Total    % Received % Xferd  Average Speed   Time    Time     Time  Current\n",
      "                                 Dload  Upload   Total   Spent    Left  Speed\n",
      "\n",
      "  0     0    0     0    0     0      0      0 --:--:-- --:--:-- --:--:--     0\n",
      "  1 17.4M    1  351k    0     0   357k      0  0:00:49 --:--:--  0:00:49  357k\n",
      "  6 17.4M    6 1225k    0     0   617k      0  0:00:28  0:00:01  0:00:27  617k\n",
      " 14 17.4M   14 2551k    0     0   854k      0  0:00:20  0:00:02  0:00:18  854k\n",
      " 24 17.4M   24 4378k    0     0  1098k      0  0:00:16  0:00:03  0:00:13 1098k\n",
      " 36 17.4M   36 6464k    0     0  1296k      0  0:00:13  0:00:04  0:00:09 1296k\n",
      " 47 17.4M   47 8535k    0     0  1426k      0  0:00:12  0:00:05  0:00:07 1636k\n",
      " 59 17.4M   59 10.3M    0     0  1518k      0  0:00:11  0:00:06  0:00:05 1875k\n",
      " 71 17.4M   71 12.3M    0     0  1588k      0  0:00:11  0:00:07  0:00:04 2026k\n",
      " 82 17.4M   82 14.4M    0     0  1642k      0  0:00:10  0:00:08  0:00:02 2076k\n",
      " 94 17.4M   94 16.4M    0     0  1685k      0  0:00:10  0:00:09  0:00:01 2072k\n",
      "100 17.4M  100 17.4M    0     0  1705k      0  0:00:10  0:00:10 --:--:-- 2078k\n"
     ]
    }
   ],
   "source": [
    "!curl http://owl.fish.washington.edu/btea/data/Geoduck-proteome-v2.fasta -o data/Geoduck-proteome-v2.fasta"
   ]
  },
  {
   "cell_type": "code",
   "execution_count": null,
   "metadata": {
    "collapsed": false
   },
   "outputs": [],
   "source": [
    "!curl ftp://ftp.uniprot.org/pub/databases/uniprot/current_release/knowledgebase/complete/uniprot_sprot.fasta.gz -o \\../desktop/big-data/blast/db/swissprot.fasta.gz "
   ]
  },
  {
   "cell_type": "code",
   "execution_count": 14,
   "metadata": {
    "collapsed": false
   },
   "outputs": [
    {
     "name": "stdout",
     "output_type": "stream",
     "text": [
      "/c/Users/curso13/Desktop/armando3-btea-nb\n"
     ]
    }
   ],
   "source": [
    "!pwd"
   ]
  },
  {
   "cell_type": "code",
   "execution_count": 16,
   "metadata": {
    "collapsed": true
   },
   "outputs": [],
   "source": [
    "!cd.."
   ]
  },
  {
   "cell_type": "code",
   "execution_count": 17,
   "metadata": {
    "collapsed": false
   },
   "outputs": [
    {
     "name": "stdout",
     "output_type": "stream",
     "text": [
      "/c/Users/curso13/Desktop/armando3-btea-nb\n"
     ]
    }
   ],
   "source": [
    "!pwd"
   ]
  },
  {
   "cell_type": "code",
   "execution_count": 2,
   "metadata": {
    "collapsed": false
   },
   "outputs": [
    {
     "name": "stderr",
     "output_type": "stream",
     "text": [
      "  % Total    % Received % Xferd  Average Speed   Time    Time     Time  Current\n",
      "                                 Dload  Upload   Total   Spent    Left  Speed\n",
      "\n",
      "  0     0    0     0    0     0      0      0 --:--:-- --:--:-- --:--:--     0\n",
      "  0     0    0     0    0     0      0      0 --:--:-- --:--:-- --:--:--     0\n",
      "  0 79.2M    0     0    0     0      0      0 --:--:--  0:00:01 --:--:--     0Warning: Failed to create the file \n",
      "Warning: /desktop/big-data/blast/db/swissprot.fasta.gz: No such file or \n",
      "Warning: directory\n",
      "curl: (23) Failed writing body (0 != 1380)\n"
     ]
    }
   ],
   "source": [
    "!curl ftp://ftp.uniprot.org/pub/databases/uniprot/current_release/knowledgebase/complete/uniprot_sprot.fasta.gz -o /desktop/big-data/blast/db/swissprot.fasta.gz "
   ]
  },
  {
   "cell_type": "code",
   "execution_count": 1,
   "metadata": {
    "collapsed": false
   },
   "outputs": [
    {
     "name": "stdout",
     "output_type": "stream",
     "text": [
      "/c/Users/curso13/Desktop/armando3-btea-nb\n"
     ]
    }
   ],
   "source": [
    "!pwd"
   ]
  },
  {
   "cell_type": "code",
   "execution_count": 3,
   "metadata": {
    "collapsed": false
   },
   "outputs": [
    {
     "name": "stderr",
     "output_type": "stream",
     "text": [
      "ls: cannot access ../../big-data/blast/db: No such file or directory\n"
     ]
    }
   ],
   "source": [
    "!ls -s ../../big-data/blast/db"
   ]
  },
  {
   "cell_type": "code",
   "execution_count": 4,
   "metadata": {
    "collapsed": false
   },
   "outputs": [
    {
     "name": "stdout",
     "output_type": "stream",
     "text": [
      "/c/Users/curso13/Desktop/armando3-btea-nb\n"
     ]
    }
   ],
   "source": [
    "!pwd"
   ]
  },
  {
   "cell_type": "code",
   "execution_count": 5,
   "metadata": {
    "collapsed": true
   },
   "outputs": [],
   "source": [
    "!cd .."
   ]
  },
  {
   "cell_type": "code",
   "execution_count": 6,
   "metadata": {
    "collapsed": false
   },
   "outputs": [
    {
     "name": "stdout",
     "output_type": "stream",
     "text": [
      "/c/Users/curso13/Desktop/armando3-btea-nb\n"
     ]
    }
   ],
   "source": [
    "!pwd"
   ]
  },
  {
   "cell_type": "code",
   "execution_count": 7,
   "metadata": {
    "collapsed": false
   },
   "outputs": [
    {
     "name": "stdout",
     "output_type": "stream",
     "text": [
      "total 357108\n",
      " 17856 Geoduck-proteome-v2.fasta\n",
      " 81192 swissprot.fasta.gz\n",
      "258060 uniprot_sprot.fasta\n"
     ]
    }
   ],
   "source": [
    "!ls -s ../big-data/blast/db"
   ]
  },
  {
   "cell_type": "code",
   "execution_count": 8,
   "metadata": {
    "collapsed": false
   },
   "outputs": [
    {
     "name": "stderr",
     "output_type": "stream",
     "text": [
      "USAGE\n",
      "  makeblastdb.exe [-h] [-help] [-in input_file] [-input_type type]\n",
      "    -dbtype molecule_type [-title database_title] [-parse_seqids]\n",
      "    [-hash_index] [-mask_data mask_data_files] [-mask_id mask_algo_ids]\n",
      "    [-mask_desc mask_algo_descriptions] [-gi_mask]\n",
      "    [-gi_mask_name gi_based_mask_names] [-out database_name]\n",
      "    [-max_file_sz number_of_bytes] [-logfile File_Name] [-taxid TaxID]\n",
      "    [-taxid_map TaxIDMapFile] [-version]\n",
      "\n",
      "DESCRIPTION\n",
      "   Application to create BLAST databases, version 2.2.31+\n",
      "\n",
      "Use '-help' to print detailed descriptions of command line arguments\n",
      "========================================================================\n",
      "\n",
      "Error: Unknown argument: \"-help\"\n"
     ]
    }
   ],
   "source": [
    "!makeblastdb --help"
   ]
  },
  {
   "cell_type": "code",
   "execution_count": 9,
   "metadata": {
    "collapsed": false
   },
   "outputs": [
    {
     "name": "stderr",
     "output_type": "stream",
     "text": [
      "USAGE\n",
      "  makeblastdb.exe [-h] [-help] [-in input_file] [-input_type type]\n",
      "    -dbtype molecule_type [-title database_title] [-parse_seqids]\n",
      "    [-hash_index] [-mask_data mask_data_files] [-mask_id mask_algo_ids]\n",
      "    [-mask_desc mask_algo_descriptions] [-gi_mask]\n",
      "    [-gi_mask_name gi_based_mask_names] [-out database_name]\n",
      "    [-max_file_sz number_of_bytes] [-logfile File_Name] [-taxid TaxID]\n",
      "    [-taxid_map TaxIDMapFile] [-version]\n",
      "\n",
      "DESCRIPTION\n",
      "   Application to create BLAST databases, version 2.2.31+\n",
      "\n",
      "Use '-help' to print detailed descriptions of command line arguments\n",
      "========================================================================\n",
      "\n",
      "Error: Argument \"dbtype\". Illegal value, expected `nucl', `prot':  `prot-in'\n"
     ]
    }
   ],
   "source": [
    "!makeblastdb \\\n",
    "-dbtype prot\\\n",
    "-in ../big-data/blast/db/uniprot_sprot.fasta \\\n",
    "-out ../big-data/blast/db/uniprot"
   ]
  },
  {
   "cell_type": "code",
   "execution_count": 10,
   "metadata": {
    "collapsed": false
   },
   "outputs": [
    {
     "name": "stdout",
     "output_type": "stream",
     "text": [
      "\n",
      "\n",
      "Building a new DB, current time: 10/21/2015 12:23:36\n",
      "New DB name:   C:\\Users\\curso13\\Desktop\\big-data\\blast\\db\\uniprot\n",
      "New DB title:  ../big-data/blast/db/uniprot_sprot.fasta\n",
      "Sequence type: Protein\n",
      "Keep Linkouts: T\n",
      "Keep MBits: T\n",
      "Maximum file size: 1000000000B\n",
      "Adding sequences from FASTA; added 549646 sequences in 41.8339 seconds.\n"
     ]
    }
   ],
   "source": [
    "!makeblastdb \\\n",
    "-dbtype prot \\\n",
    "-in ../big-data/blast/db/uniprot_sprot.fasta \\\n",
    "-out ../big-data/blast/db/uniprot"
   ]
  },
  {
   "cell_type": "code",
   "execution_count": 11,
   "metadata": {
    "collapsed": false
   },
   "outputs": [
    {
     "name": "stdout",
     "output_type": "stream",
     "text": [
      "total 650488\n",
      " 17856 Geoduck-proteome-v2.fasta\n",
      " 81192 swissprot.fasta.gz\n",
      " 97156 uniprot.phr\n",
      "  4296 uniprot.pin\n",
      "191928 uniprot.psq\n",
      "258060 uniprot_sprot.fasta\n"
     ]
    }
   ],
   "source": [
    "!ls -s ../big-data/blast/db"
   ]
  },
  {
   "cell_type": "code",
   "execution_count": null,
   "metadata": {
    "collapsed": true
   },
   "outputs": [],
   "source": [
    "!blastp \\\n",
    "-query ../big-data/blast/db/Geoduck-proteome-v2.fasta \\\n",
    "-db ../big-data/blast/db/uniprot "
   ]
  },
  {
   "cell_type": "code",
   "execution_count": null,
   "metadata": {
    "collapsed": true
   },
   "outputs": [],
   "source": [
    "#no se puede guardar"
   ]
  },
  {
   "cell_type": "code",
   "execution_count": null,
   "metadata": {
    "collapsed": true
   },
   "outputs": [],
   "source": []
  }
 ],
 "metadata": {
  "kernelspec": {
   "display_name": "Python 2",
   "language": "python",
   "name": "python2"
  },
  "language_info": {
   "codemirror_mode": {
    "name": "ipython",
    "version": 2
   },
   "file_extension": ".py",
   "mimetype": "text/x-python",
   "name": "python",
   "nbconvert_exporter": "python",
   "pygments_lexer": "ipython2",
   "version": "2.7.10"
  }
 },
 "nbformat": 4,
 "nbformat_minor": 0
}
